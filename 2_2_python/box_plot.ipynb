{
  "nbformat": 4,
  "nbformat_minor": 0,
  "metadata": {
    "colab": {
      "provenance": []
    },
    "kernelspec": {
      "name": "python3",
      "display_name": "Python 3"
    },
    "language_info": {
      "name": "python"
    }
  },
  "cells": [
    {
      "cell_type": "code",
      "execution_count": 1,
      "metadata": {
        "colab": {
          "base_uri": "https://localhost:8080/"
        },
        "id": "BN5X5ov2uvx0",
        "outputId": "fa8b153a-c0a0-4d1d-8c87-279031dcf4cc"
      },
      "outputs": [
        {
          "output_type": "stream",
          "name": "stdout",
          "text": [
            "Outliers:            value\n",
            "159  -29.795968\n",
            "412  -32.044013\n",
            "590  -28.160012\n",
            "814  -28.150613\n",
            "1036 -33.176691\n",
            "1223  27.931658\n",
            "1558 -31.126449\n",
            "2190  36.091607\n",
            "2404  28.195220\n",
            "2529 -28.055157\n",
            "2565 -27.619559\n",
            "2601 -28.623817\n",
            "2679 -28.294679\n",
            "3083 -27.351311\n",
            "3318  29.470987\n",
            "3627 -27.526232\n",
            "3818 -27.956149\n",
            "3948  34.548450\n",
            "3952 -27.873396\n",
            "4461  29.991898\n",
            "4744  29.253242\n",
            "4830 -28.317780\n",
            "4872 -28.210585\n",
            "4912 -33.723470\n"
          ]
        }
      ],
      "source": [
        "import pandas as pd\n",
        "import numpy as np\n",
        "import matplotlib.pyplot as plt\n",
        "import seaborn as sns\n",
        "np.random.seed(10)\n",
        "data = pd.DataFrame({'value': np.concatenate([np.random.normal(0, 10, 5000), np.random.normal(10, 1, 100)])})\n",
        "Q1 = data['value'].quantile(0.25)\n",
        "Q3 = data['value'].quantile(0.75)\n",
        "IQR = Q3 - Q1\n",
        "lower_bound = Q1 - 1.5 * IQR\n",
        "upper_bound = Q3 + 1.5 * IQR\n",
        "outliers = data[(data['value'] < lower_bound) | (data['value'] > upper_bound)]\n",
        "print(\"Outliers: \",outliers)"
      ]
    },
    {
      "cell_type": "code",
      "source": [
        "import pandas as pd\n",
        "import matplotlib.pyplot as plt\n",
        "import numpy as np\n",
        "\n",
        "np.random.seed(10)\n",
        "\n",
        "d = pd.DataFrame({\n",
        "    'value': np.concatenate([np.random.normal(0, 10, 5000), np.random.normal(10, 1, 100)])\n",
        "})\n",
        "q1 = d['value'].quantile(0.25)\n",
        "q3 = d['value'].quantile(0.75)\n",
        "iq = q3 - q1\n",
        "lowerbound = q1 - 1.5 * iq\n",
        "upperbound = q3 + 1.5 * iq\n",
        "outliers = d[(d['value'] < lowerbound) | (d['value'] > upperbound)]\n",
        "print(\"Outliers:\")\n",
        "print(outliers)\n",
        "plt.figure(figsize=(10, 6))\n",
        "plt.boxplot(d['value'], vert=False, patch_artist=True, boxprops=dict(facecolor='lightblue'))\n",
        "plt.scatter(outliers['value'], np.ones(len(outliers)), color='red', label='Outliers', zorder=3)\n",
        "plt.title('Boxplot with Outliers')\n",
        "plt.xlabel('Value')\n",
        "plt.legend()\n",
        "plt.show()"
      ],
      "metadata": {
        "colab": {
          "base_uri": "https://localhost:8080/",
          "height": 892
        },
        "id": "Jh3gXDu33ewQ",
        "outputId": "2b342602-dfa0-4c2e-f5a1-72bdecd7bc2e"
      },
      "execution_count": 4,
      "outputs": [
        {
          "output_type": "stream",
          "name": "stdout",
          "text": [
            "Outliers:\n",
            "          value\n",
            "159  -29.795968\n",
            "412  -32.044013\n",
            "590  -28.160012\n",
            "814  -28.150613\n",
            "1036 -33.176691\n",
            "1223  27.931658\n",
            "1558 -31.126449\n",
            "2190  36.091607\n",
            "2404  28.195220\n",
            "2529 -28.055157\n",
            "2565 -27.619559\n",
            "2601 -28.623817\n",
            "2679 -28.294679\n",
            "3083 -27.351311\n",
            "3318  29.470987\n",
            "3627 -27.526232\n",
            "3818 -27.956149\n",
            "3948  34.548450\n",
            "3952 -27.873396\n",
            "4461  29.991898\n",
            "4744  29.253242\n",
            "4830 -28.317780\n",
            "4872 -28.210585\n",
            "4912 -33.723470\n"
          ]
        },
        {
          "output_type": "display_data",
          "data": {
            "text/plain": [
              "<Figure size 1000x600 with 1 Axes>"
            ],
            "image/png": "[encoded data removed]"
          },
          "metadata": {}
        }
      ]
    },
    {
      "cell_type": "code",
      "source": [],
      "metadata": {
        "id": "bd7rbANg51Sr"
      },
      "execution_count": null,
      "outputs": []
    }
  ]
}