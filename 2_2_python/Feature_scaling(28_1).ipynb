{
  "nbformat": 4,
  "nbformat_minor": 0,
  "metadata": {
    "colab": {
      "provenance": []
    },
    "kernelspec": {
      "name": "python3",
      "display_name": "Python 3"
    },
    "language_info": {
      "name": "python"
    }
  },
  "cells": [
    {
      "cell_type": "markdown",
      "source": [
        "One Hot Encoder"
      ],
      "metadata": {
        "id": "UdQCHf4ZRhm8"
      }
    },
    {
      "cell_type": "code",
      "source": [
        "import pandas as pd\n",
        "from sklearn.preprocessing import OneHotEncoder\n",
        "\n",
        "# Sample dataset\n",
        "data = {\n",
        "    \"customer_id\": [1, 2, 3, 4],\n",
        "    \"gender\": [\"Male\", \"Female\", \"Female\", \"Male\"],\n",
        "    \"city\": [\"Hyderabad\", \"pune\", \"Banglore\", \"mumbai\"]\n",
        "}\n",
        "\n",
        "# Convert data to a DataFrame\n",
        "df = pd.DataFrame(data)\n",
        "print(\"Original DataFrame:\")\n",
        "print(df)\n",
        "one_hot_encoder = OneHotEncoder(sparse_output=False)\n",
        "columns_to_encode = [\"gender\", \"city\"]\n",
        "encoded_data = one_hot_encoder.fit_transform(df[columns_to_encode])\n",
        "encoded_columns = one_hot_encoder.get_feature_names_out(columns_to_encode)\n",
        "encoded_df = pd.DataFrame(encoded_data, columns=encoded_columns)\n",
        "final_df = pd.concat([df.drop(columns=columns_to_encode), encoded_df], axis=1)\n",
        "print(\"\\nOne-hot Encoded Dataframe with sklearn:\")\n",
        "print(final_df)"
      ],
      "metadata": {
        "colab": {
          "base_uri": "https://localhost:8080/"
        },
        "id": "2Hf2cdmuQNhx",
        "outputId": "53527865-92b6-40b8-9c80-4c278d3bb388"
      },
      "execution_count": null,
      "outputs": [
        {
          "output_type": "stream",
          "name": "stdout",
          "text": [
            "Original DataFrame:\n",
            "   customer_id  gender       city\n",
            "0            1    Male  Hyderabad\n",
            "1            2  Female       pune\n",
            "2            3  Female   Banglore\n",
            "3            4    Male     mumbai\n",
            "\n",
            "One-hot Encoded Dataframe with sklearn:\n",
            "   customer_id  gender_Female  gender_Male  city_Banglore  city_Hyderabad  \\\n",
            "0            1            0.0          1.0            0.0             1.0   \n",
            "1            2            1.0          0.0            0.0             0.0   \n",
            "2            3            1.0          0.0            1.0             0.0   \n",
            "3            4            0.0          1.0            0.0             0.0   \n",
            "\n",
            "   city_mumbai  city_pune  \n",
            "0          0.0        0.0  \n",
            "1          0.0        1.0  \n",
            "2          0.0        0.0  \n",
            "3          1.0        0.0  \n"
          ]
        }
      ]
    },
    {
      "cell_type": "markdown",
      "source": [
        "Label Encoder"
      ],
      "metadata": {
        "id": "9fuK52qwRUJj"
      }
    },
    {
      "cell_type": "code",
      "source": [
        "import pandas as pd\n",
        "from sklearn.preprocessing import LabelEncoder\n",
        "\n",
        "# Sample dataset\n",
        "data = {\n",
        "    \"customer_id\": [1, 2, 3, 4],\n",
        "    \"gender\": [\"Male\", \"Female\", \"Female\", \"Male\"],\n",
        "    \"city\": [\"Hyderabad\", \"pune\", \"Banglore\", \"mumbai\"]\n",
        "}\n",
        "\n",
        "# Convert data to a DataFrame\n",
        "df = pd.DataFrame(data)\n",
        "print(\"Original DataFrame:\")\n",
        "print(df)\n",
        "\n",
        "# Apply label encoding\n",
        "label_encoders = {}\n",
        "for column in [\"gender\", \"city\"]:\n",
        "    le = LabelEncoder()\n",
        "    df[column] = le.fit_transform(df[column])\n",
        "    label_encoders[column] = le\n",
        "\n",
        "print(\"\\nLabel Encoded DataFrame:\")\n",
        "print(df)\n"
      ],
      "metadata": {
        "colab": {
          "base_uri": "https://localhost:8080/"
        },
        "id": "FT--pfwRQypm",
        "outputId": "c28b9d33-6cd3-45fd-e9d8-226d765fe446"
      },
      "execution_count": null,
      "outputs": [
        {
          "output_type": "stream",
          "name": "stdout",
          "text": [
            "Original DataFrame:\n",
            "   customer_id  gender       city\n",
            "0            1    Male  Hyderabad\n",
            "1            2  Female       pune\n",
            "2            3  Female   Banglore\n",
            "3            4    Male     mumbai\n",
            "\n",
            "Label Encoded DataFrame:\n",
            "   customer_id  gender  city\n",
            "0            1       1     1\n",
            "1            2       0     3\n",
            "2            3       0     0\n",
            "3            4       1     2\n"
          ]
        }
      ]
    },
    {
      "cell_type": "markdown",
      "source": [
        "Ordinal Encoding"
      ],
      "metadata": {
        "id": "oESbYCj7Rnae"
      }
    },
    {
      "cell_type": "code",
      "source": [
        "import pandas as pd\n",
        "from sklearn.preprocessing import OrdinalEncoder\n",
        "\n",
        "# Sample dataset\n",
        "data = {\n",
        "    \"customer_id\": [1, 2, 3, 4],\n",
        "    \"gender\": [\"Male\", \"Female\", \"Female\", \"Male\"],\n",
        "    \"city\": [\"Hyderabad\", \"pune\", \"Banglore\", \"mumbai\"]\n",
        "}\n",
        "\n",
        "# Convert data to a DataFrame\n",
        "df = pd.DataFrame(data)\n",
        "print(\"Original DataFrame:\")\n",
        "print(df)\n",
        "\n",
        "# Define ordinal encoding\n",
        "ordinal_encoder = OrdinalEncoder()\n",
        "encoded_data = ordinal_encoder.fit_transform(df[[\"gender\", \"city\"]])\n",
        "df[[\"gender\", \"city\"]] = encoded_data\n",
        "\n",
        "print(\"\\nOrdinal Encoded DataFrame:\")\n",
        "print(df)\n"
      ],
      "metadata": {
        "colab": {
          "base_uri": "https://localhost:8080/"
        },
        "id": "vKZcwO_8RmsD",
        "outputId": "63a7e5e5-4e75-4436-9a7d-2b7ec6c05ee5"
      },
      "execution_count": null,
      "outputs": [
        {
          "output_type": "stream",
          "name": "stdout",
          "text": [
            "Original DataFrame:\n",
            "   customer_id  gender       city\n",
            "0            1    Male  Hyderabad\n",
            "1            2  Female       pune\n",
            "2            3  Female   Banglore\n",
            "3            4    Male     mumbai\n",
            "\n",
            "Ordinal Encoded DataFrame:\n",
            "   customer_id  gender  city\n",
            "0            1     1.0   1.0\n",
            "1            2     0.0   3.0\n",
            "2            3     0.0   0.0\n",
            "3            4     1.0   2.0\n"
          ]
        }
      ]
    },
    {
      "cell_type": "markdown",
      "source": [
        "Mean Encoding"
      ],
      "metadata": {
        "id": "afSP0a0LRuEJ"
      }
    },
    {
      "cell_type": "code",
      "source": [
        "import pandas as pd\n",
        "\n",
        "# Sample dataset\n",
        "data = {\n",
        "    \"customer_id\": [1, 2, 3, 4],\n",
        "    \"gender\": [\"Male\", \"Female\", \"Female\", \"Male\"],\n",
        "    \"city\": [\"Hyderabad\", \"pune\", \"Banglore\", \"mumbai\"],\n",
        "    \"purchased\": [1, 0, 1, 0]  # Example target variable\n",
        "}\n",
        "\n",
        "# Convert data to a DataFrame\n",
        "df = pd.DataFrame(data)\n",
        "print(\"Original DataFrame:\")\n",
        "print(df)\n",
        "\n",
        "# Perform target encoding\n",
        "for column in [\"gender\", \"city\"]:\n",
        "    target_means = df.groupby(column)[\"purchased\"].mean()\n",
        "    df[column] = df[column].map(target_means)\n",
        "\n",
        "print(\"\\nTarget Encoded DataFrame:\")\n",
        "print(df)\n"
      ],
      "metadata": {
        "colab": {
          "base_uri": "https://localhost:8080/"
        },
        "id": "TxI81SPcRrWE",
        "outputId": "5466841e-0d8a-4a18-b347-a1c51e4aae96"
      },
      "execution_count": null,
      "outputs": [
        {
          "output_type": "stream",
          "name": "stdout",
          "text": [
            "Original DataFrame:\n",
            "   customer_id  gender       city  purchased\n",
            "0            1    Male  Hyderabad          1\n",
            "1            2  Female       pune          0\n",
            "2            3  Female   Banglore          1\n",
            "3            4    Male     mumbai          0\n",
            "\n",
            "Target Encoded DataFrame:\n",
            "   customer_id  gender  city  purchased\n",
            "0            1     0.5   1.0          1\n",
            "1            2     0.5   0.0          0\n",
            "2            3     0.5   1.0          1\n",
            "3            4     0.5   0.0          0\n"
          ]
        }
      ]
    }
  ]
}