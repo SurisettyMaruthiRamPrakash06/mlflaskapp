{
  "nbformat": 4,
  "nbformat_minor": 0,
  "metadata": {
    "colab": {
      "provenance": []
    },
    "kernelspec": {
      "name": "python3",
      "display_name": "Python 3"
    },
    "language_info": {
      "name": "python"
    }
  },
  "cells": [
    {
      "cell_type": "code",
      "source": [
        "import pandas as pd\n",
        "from sklearn.preprocessing import MinMaxScaler\n",
        "\n",
        "data = {\n",
        "    'age': [25, 30, 35, 40, 45],\n",
        "    'height': [150, 160, 165, 173, 190],\n",
        "    'weight': [50, 60, 70, 82, 100]\n",
        "}\n",
        "\n",
        "df = pd.DataFrame(data)\n",
        "print(\"Original Dataset:\")\n",
        "print(df)\n",
        "\n",
        "scaler = MinMaxScaler()\n",
        "normalized_data = scaler.fit_transform(df)\n",
        "\n",
        "normalized_df = pd.DataFrame(normalized_data, columns=df.columns)  # Use 'normalized_data' instead of 'scaled_data'\n",
        "print(\"\\nNormalized Dataset (scaled to range [0,1]):\")\n",
        "print(normalized_df)\n",
        "\n",
        "print(\"\\nFeature-wise Min values After Scaling:\")\n",
        "print(normalized_df.min())\n"
      ],
      "metadata": {
        "colab": {
          "base_uri": "https://localhost:8080/"
        },
        "id": "ilJBYjmY85x0",
        "outputId": "6ad43544-a84a-49ec-ae36-c6ec2003a92c"
      },
      "execution_count": null,
      "outputs": [
        {
          "output_type": "stream",
          "name": "stdout",
          "text": [
            "Original Dataset:\n",
            "   age  height  weight\n",
            "0   25     150      50\n",
            "1   30     160      60\n",
            "2   35     165      70\n",
            "3   40     173      82\n",
            "4   45     190     100\n",
            "\n",
            "Normalized Dataset (scaled to range [0,1]):\n",
            "    age  height  weight\n",
            "0  0.00   0.000    0.00\n",
            "1  0.25   0.250    0.20\n",
            "2  0.50   0.375    0.40\n",
            "3  0.75   0.575    0.64\n",
            "4  1.00   1.000    1.00\n",
            "\n",
            "Feature-wise Min values After Scaling:\n",
            "age       0.0\n",
            "height    0.0\n",
            "weight    0.0\n",
            "dtype: float64\n"
          ]
        }
      ]
    },
    {
      "cell_type": "code",
      "source": [
        "import pandas as pd\n",
        "from sklearn.preprocessing import StandardScaler\n",
        "\n",
        "data = {\n",
        "    'age': [25, 30, 35, 40, 45],\n",
        "    'height': [150, 160, 165, 173, 190],\n",
        "    'weight': [50, 60, 70, 82, 100],\n",
        "    'income': [3000, 4000, 5210, 6541, 7896]\n",
        "}\n",
        "\n",
        "df = pd.DataFrame(data)\n",
        "print(\"Original Dataset:\")\n",
        "print(df)\n",
        "\n",
        "scaler = StandardScaler()\n",
        "standardized_data = scaler.fit_transform(df)\n",
        "\n",
        "standardized_df = pd.DataFrame(standardized_data, columns=df.columns)  # Use 'standardized_data'\n",
        "print(\"\\nStandardized Dataset (mean = 0, std = 1):\")\n",
        "print(standardized_df)\n",
        "\n",
        "print(\"\\nFeature-wise Mean values After Standardization:\")\n",
        "print(standardized_df.mean())\n",
        "\n",
        "print(\"\\nFeature-wise Standard Deviation values After Standardization:\")\n",
        "print(standardized_df.std())\n"
      ],
      "metadata": {
        "colab": {
          "base_uri": "https://localhost:8080/"
        },
        "id": "2czLvR6_GR-x",
        "outputId": "ea2dc44b-101d-44e6-e001-10d8cc6e8b3d"
      },
      "execution_count": null,
      "outputs": [
        {
          "output_type": "stream",
          "name": "stdout",
          "text": [
            "Original Dataset:\n",
            "   age  height  weight  income\n",
            "0   25     150      50    3000\n",
            "1   30     160      60    4000\n",
            "2   35     165      70    5210\n",
            "3   40     173      82    6541\n",
            "4   45     190     100    7896\n",
            "\n",
            "Standardized Dataset (mean = 0, std = 1):\n",
            "        age    height    weight    income\n",
            "0 -1.414214 -1.308053 -1.286761 -1.333239\n",
            "1 -0.707107 -0.564841 -0.712314 -0.760886\n",
            "2  0.000000 -0.193235 -0.137867 -0.068339\n",
            "3  0.707107  0.401334  0.551469  0.693463\n",
            "4  1.414214  1.664795  1.585474  1.469001\n",
            "\n",
            "Feature-wise Mean values After Standardization:\n",
            "age       0.000000e+00\n",
            "height    3.996803e-16\n",
            "weight   -2.664535e-16\n",
            "income    1.776357e-16\n",
            "dtype: float64\n",
            "\n",
            "Feature-wise Standard Deviation values After Standardization:\n",
            "age       1.118034\n",
            "height    1.118034\n",
            "weight    1.118034\n",
            "income    1.118034\n",
            "dtype: float64\n"
          ]
        }
      ]
    }
  ]
}