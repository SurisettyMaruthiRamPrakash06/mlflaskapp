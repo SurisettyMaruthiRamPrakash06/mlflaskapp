{
  "nbformat": 4,
  "nbformat_minor": 0,
  "metadata": {
    "colab": {
      "provenance": []
    },
    "kernelspec": {
      "name": "python3",
      "display_name": "Python 3"
    },
    "language_info": {
      "name": "python"
    }
  },
  "cells": [
    {
      "cell_type": "code",
      "execution_count": 6,
      "metadata": {
        "colab": {
          "base_uri": "https://localhost:8080/"
        },
        "id": "OV5hjBeQ8Qym",
        "outputId": "c0c0f5c6-555a-43a7-f9ca-7fa612a2f219"
      },
      "outputs": [
        {
          "output_type": "stream",
          "name": "stdout",
          "text": [
            "Ola Fare: $150\n",
            "Uber Fare: $135\n",
            "Cheaper Option: Uber\n"
          ]
        }
      ],
      "source": [
        "# Function to calculate fare\n",
        "def calculate_fare(base_price, rate_per_km, distance):\n",
        "    return base_price + (rate_per_km * distance)\n",
        "\n",
        "# Given data\n",
        "distance_traveled = 20  # in km\n",
        "rate_per_km = 5  # fixed rate per km\n",
        "\n",
        "# Ola Pricing\n",
        "ola_base_price = 50\n",
        "ola_fare = calculate_fare(ola_base_price, rate_per_km, distance_traveled)\n",
        "\n",
        "# Uber Pricing\n",
        "uber_base_price = 35\n",
        "uber_fare = calculate_fare(uber_base_price, rate_per_km, distance_traveled)\n",
        "\n",
        "# Determine the cheaper option\n",
        "cheaper_option = \"Uber\" if uber_fare < ola_fare else \"Ola\"\n",
        "\n",
        "# Print results\n",
        "print(f\"Ola Fare: ${ola_fare}\")\n",
        "print(f\"Uber Fare: ${uber_fare}\")\n",
        "print(f\"Cheaper Option: {cheaper_option}\")"
      ]
    },
    {
      "cell_type": "code",
      "source": [],
      "metadata": {
        "id": "JjEo4QbQ8ya-"
      },
      "execution_count": null,
      "outputs": []
    }
  ]
}